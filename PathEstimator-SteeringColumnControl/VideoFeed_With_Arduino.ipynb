{
 "cells": [
  {
   "cell_type": "code",
   "execution_count": null,
   "metadata": {},
   "outputs": [],
   "source": [
    "#The given script reads a video from the disk, estimates the path in accordance to the cone placement, and then \n",
    "#sends the appropriate steering angle to an arduino which controls an actuator attached to the steering column"
   ]
  },
  {
   "cell_type": "code",
   "execution_count": 1,
   "metadata": {},
   "outputs": [
    {
     "name": "stdout",
     "output_type": "stream",
     "text": [
      "b'Interrupt attached.\\r\\n'\n"
     ]
    },
    {
     "name": "stderr",
     "output_type": "stream",
     "text": [
      "2020-02-12 19:42:01,982 - root - DEBUG - Detected 8 objects in 6 images in 4124.65 ms\n"
     ]
    },
    {
     "name": "stdout",
     "output_type": "stream",
     "text": [
      "b'Calculated output rot:\\r\\n'\n"
     ]
    },
    {
     "name": "stderr",
     "output_type": "stream",
     "text": [
      "2020-02-12 19:42:02,918 - root - DEBUG - Detected 8 objects in 6 images in 854.53 ms\n"
     ]
    },
    {
     "name": "stdout",
     "output_type": "stream",
     "text": [
      "b'13\\r\\n'\n"
     ]
    },
    {
     "name": "stderr",
     "output_type": "stream",
     "text": [
      "2020-02-12 19:42:03,734 - root - DEBUG - Detected 8 objects in 6 images in 781.23 ms\n"
     ]
    },
    {
     "name": "stdout",
     "output_type": "stream",
     "text": [
      "b'0\\r\\n'\n"
     ]
    },
    {
     "name": "stderr",
     "output_type": "stream",
     "text": [
      "2020-02-12 19:42:04,535 - root - DEBUG - Detected 8 objects in 6 images in 775.67 ms\n"
     ]
    },
    {
     "name": "stdout",
     "output_type": "stream",
     "text": [
      "b'0\\r\\n'\n"
     ]
    },
    {
     "name": "stderr",
     "output_type": "stream",
     "text": [
      "2020-02-12 19:42:05,333 - root - DEBUG - Detected 8 objects in 6 images in 771.73 ms\n"
     ]
    },
    {
     "name": "stdout",
     "output_type": "stream",
     "text": [
      "b'0\\r\\n'\n"
     ]
    },
    {
     "name": "stderr",
     "output_type": "stream",
     "text": [
      "2020-02-12 19:42:06,132 - root - DEBUG - Detected 9 objects in 6 images in 778.77 ms\n"
     ]
    },
    {
     "name": "stdout",
     "output_type": "stream",
     "text": [
      "b'0\\r\\n'\n"
     ]
    },
    {
     "name": "stderr",
     "output_type": "stream",
     "text": [
      "2020-02-12 19:42:06,932 - root - DEBUG - Detected 9 objects in 6 images in 770.69 ms\n"
     ]
    },
    {
     "name": "stdout",
     "output_type": "stream",
     "text": [
      "b'0\\r\\n'\n"
     ]
    },
    {
     "name": "stderr",
     "output_type": "stream",
     "text": [
      "2020-02-12 19:42:07,730 - root - DEBUG - Detected 7 objects in 6 images in 762.49 ms\n"
     ]
    },
    {
     "name": "stdout",
     "output_type": "stream",
     "text": [
      "b'0\\r\\n'\n"
     ]
    },
    {
     "name": "stderr",
     "output_type": "stream",
     "text": [
      "2020-02-12 19:42:08,528 - root - DEBUG - Detected 8 objects in 6 images in 770.14 ms\n"
     ]
    },
    {
     "name": "stdout",
     "output_type": "stream",
     "text": [
      "b'0\\r\\n'\n"
     ]
    },
    {
     "name": "stderr",
     "output_type": "stream",
     "text": [
      "2020-02-12 19:42:09,326 - root - DEBUG - Detected 8 objects in 6 images in 767.83 ms\n"
     ]
    },
    {
     "name": "stdout",
     "output_type": "stream",
     "text": [
      "b'0\\r\\n'\n"
     ]
    },
    {
     "name": "stderr",
     "output_type": "stream",
     "text": [
      "2020-02-12 19:42:10,136 - root - DEBUG - Detected 8 objects in 6 images in 783.15 ms\n"
     ]
    },
    {
     "name": "stdout",
     "output_type": "stream",
     "text": [
      "b'0\\r\\n'\n"
     ]
    },
    {
     "name": "stderr",
     "output_type": "stream",
     "text": [
      "2020-02-12 19:42:10,959 - root - DEBUG - Detected 8 objects in 6 images in 799.10 ms\n"
     ]
    },
    {
     "name": "stdout",
     "output_type": "stream",
     "text": [
      "b'0\\r\\n'\n"
     ]
    },
    {
     "name": "stderr",
     "output_type": "stream",
     "text": [
      "2020-02-12 19:42:11,758 - root - DEBUG - Detected 7 objects in 6 images in 768.25 ms\n"
     ]
    },
    {
     "name": "stdout",
     "output_type": "stream",
     "text": [
      "b'65535\\r\\n'\n"
     ]
    },
    {
     "name": "stderr",
     "output_type": "stream",
     "text": [
      "2020-02-12 19:42:12,567 - root - DEBUG - Detected 9 objects in 6 images in 780.47 ms\n"
     ]
    },
    {
     "name": "stdout",
     "output_type": "stream",
     "text": [
      "b'65535\\r\\n'\n"
     ]
    },
    {
     "name": "stderr",
     "output_type": "stream",
     "text": [
      "2020-02-12 19:42:13,395 - root - DEBUG - Detected 9 objects in 6 images in 797.33 ms\n"
     ]
    },
    {
     "name": "stdout",
     "output_type": "stream",
     "text": [
      "b'65534\\r\\n'\n"
     ]
    },
    {
     "name": "stderr",
     "output_type": "stream",
     "text": [
      "2020-02-12 19:42:14,212 - root - DEBUG - Detected 9 objects in 6 images in 786.23 ms\n"
     ]
    },
    {
     "name": "stdout",
     "output_type": "stream",
     "text": [
      "b'65534\\r\\n'\n"
     ]
    },
    {
     "name": "stderr",
     "output_type": "stream",
     "text": [
      "2020-02-12 19:42:15,028 - root - DEBUG - Detected 8 objects in 6 images in 789.22 ms\n"
     ]
    },
    {
     "name": "stdout",
     "output_type": "stream",
     "text": [
      "b'65534\\r\\n'\n"
     ]
    },
    {
     "name": "stderr",
     "output_type": "stream",
     "text": [
      "2020-02-12 19:42:15,826 - root - DEBUG - Detected 9 objects in 6 images in 771.99 ms\n"
     ]
    },
    {
     "name": "stdout",
     "output_type": "stream",
     "text": [
      "b'65534\\r\\n'\n"
     ]
    },
    {
     "name": "stderr",
     "output_type": "stream",
     "text": [
      "2020-02-12 19:42:16,614 - root - DEBUG - Detected 9 objects in 6 images in 761.90 ms\n"
     ]
    },
    {
     "name": "stdout",
     "output_type": "stream",
     "text": [
      "b'65533\\r\\n'\n"
     ]
    },
    {
     "name": "stderr",
     "output_type": "stream",
     "text": [
      "2020-02-12 19:42:17,405 - root - DEBUG - Detected 9 objects in 6 images in 764.66 ms\n"
     ]
    },
    {
     "name": "stdout",
     "output_type": "stream",
     "text": [
      "b'65532\\r\\n'\n"
     ]
    },
    {
     "name": "stderr",
     "output_type": "stream",
     "text": [
      "2020-02-12 19:42:18,205 - root - DEBUG - Detected 9 objects in 6 images in 772.63 ms\n"
     ]
    },
    {
     "name": "stdout",
     "output_type": "stream",
     "text": [
      "b'65532\\r\\n'\n"
     ]
    },
    {
     "name": "stderr",
     "output_type": "stream",
     "text": [
      "2020-02-12 19:42:19,006 - root - DEBUG - Detected 10 objects in 6 images in 772.07 ms\n"
     ]
    },
    {
     "name": "stdout",
     "output_type": "stream",
     "text": [
      "b'65530\\r\\n'\n"
     ]
    },
    {
     "name": "stderr",
     "output_type": "stream",
     "text": [
      "2020-02-12 19:42:19,803 - root - DEBUG - Detected 10 objects in 6 images in 768.48 ms\n"
     ]
    },
    {
     "name": "stdout",
     "output_type": "stream",
     "text": [
      "b'65528\\r\\n'\n"
     ]
    },
    {
     "name": "stderr",
     "output_type": "stream",
     "text": [
      "2020-02-12 19:42:20,631 - root - DEBUG - Detected 10 objects in 6 images in 798.89 ms\n"
     ]
    },
    {
     "name": "stdout",
     "output_type": "stream",
     "text": [
      "b'65526\\r\\n'\n"
     ]
    },
    {
     "name": "stderr",
     "output_type": "stream",
     "text": [
      "2020-02-12 19:42:21,438 - root - DEBUG - Detected 9 objects in 6 images in 771.43 ms\n",
      "2020-02-12 19:42:22,244 - root - DEBUG - Detected 11 objects in 6 images in 777.38 ms\n"
     ]
    },
    {
     "name": "stdout",
     "output_type": "stream",
     "text": [
      "b'65525\\r\\n'\n"
     ]
    },
    {
     "name": "stderr",
     "output_type": "stream",
     "text": [
      "2020-02-12 19:42:23,027 - root - DEBUG - Detected 10 objects in 6 images in 757.26 ms\n"
     ]
    },
    {
     "name": "stdout",
     "output_type": "stream",
     "text": [
      "b'65523\\r\\n'\n"
     ]
    },
    {
     "name": "stderr",
     "output_type": "stream",
     "text": [
      "2020-02-12 19:42:23,822 - root - DEBUG - Detected 10 objects in 6 images in 771.74 ms\n"
     ]
    },
    {
     "name": "stdout",
     "output_type": "stream",
     "text": [
      "b'Calculated output rot:\\r\\n'\n"
     ]
    },
    {
     "name": "stderr",
     "output_type": "stream",
     "text": [
      "2020-02-12 19:42:24,616 - root - DEBUG - Detected 10 objects in 6 images in 767.15 ms\n"
     ]
    },
    {
     "name": "stdout",
     "output_type": "stream",
     "text": [
      "b'0\\r\\n'\n"
     ]
    },
    {
     "name": "stderr",
     "output_type": "stream",
     "text": [
      "2020-02-12 19:42:25,405 - root - DEBUG - Detected 9 objects in 6 images in 761.28 ms\n"
     ]
    },
    {
     "name": "stdout",
     "output_type": "stream",
     "text": [
      "b'Calculated output rot:\\r\\n'\n"
     ]
    },
    {
     "name": "stderr",
     "output_type": "stream",
     "text": [
      "2020-02-12 19:42:26,199 - root - DEBUG - Detected 9 objects in 6 images in 769.96 ms\n"
     ]
    },
    {
     "name": "stdout",
     "output_type": "stream",
     "text": [
      "b'2\\r\\n'\n"
     ]
    },
    {
     "name": "stderr",
     "output_type": "stream",
     "text": [
      "2020-02-12 19:42:26,997 - root - DEBUG - Detected 9 objects in 6 images in 768.91 ms\n"
     ]
    },
    {
     "name": "stdout",
     "output_type": "stream",
     "text": [
      "b'0\\r\\n'\n"
     ]
    },
    {
     "name": "stderr",
     "output_type": "stream",
     "text": [
      "2020-02-12 19:42:27,786 - root - DEBUG - Detected 9 objects in 6 images in 763.29 ms\n"
     ]
    },
    {
     "name": "stdout",
     "output_type": "stream",
     "text": [
      "b'0\\r\\n'\n"
     ]
    },
    {
     "name": "stderr",
     "output_type": "stream",
     "text": [
      "2020-02-12 19:42:28,568 - root - DEBUG - Detected 10 objects in 6 images in 769.45 ms\n",
      "2020-02-12 19:42:29,400 - root - DEBUG - Detected 10 objects in 6 images in 801.12 ms\n",
      "2020-02-12 19:42:30,200 - root - DEBUG - Detected 9 objects in 6 images in 772.43 ms\n",
      "2020-02-12 19:42:31,055 - root - DEBUG - Detected 9 objects in 6 images in 822.49 ms\n",
      "2020-02-12 19:42:31,842 - root - DEBUG - Detected 9 objects in 6 images in 764.51 ms\n",
      "2020-02-12 19:42:32,656 - root - DEBUG - Detected 10 objects in 6 images in 776.49 ms\n",
      "2020-02-12 19:42:33,434 - root - DEBUG - Detected 11 objects in 6 images in 752.12 ms\n"
     ]
    },
    {
     "name": "stdout",
     "output_type": "stream",
     "text": [
      "b'0\\r\\n'\n"
     ]
    },
    {
     "name": "stderr",
     "output_type": "stream",
     "text": [
      "2020-02-12 19:42:34,224 - root - DEBUG - Detected 8 objects in 6 images in 758.78 ms\n"
     ]
    },
    {
     "name": "stdout",
     "output_type": "stream",
     "text": [
      "b'0\\r\\n'\n"
     ]
    },
    {
     "name": "stderr",
     "output_type": "stream",
     "text": [
      "2020-02-12 19:42:35,009 - root - DEBUG - Detected 9 objects in 6 images in 757.22 ms\n",
      "2020-02-12 19:42:35,773 - root - DEBUG - Detected 8 objects in 6 images in 748.52 ms\n"
     ]
    },
    {
     "name": "stdout",
     "output_type": "stream",
     "text": [
      "b'0\\r\\n'\n"
     ]
    },
    {
     "name": "stderr",
     "output_type": "stream",
     "text": [
      "2020-02-12 19:42:36,564 - root - DEBUG - Detected 6 objects in 6 images in 763.73 ms\n"
     ]
    },
    {
     "name": "stdout",
     "output_type": "stream",
     "text": [
      "b'0\\r\\n'\n"
     ]
    },
    {
     "name": "stderr",
     "output_type": "stream",
     "text": [
      "2020-02-12 19:42:37,346 - root - DEBUG - Detected 7 objects in 6 images in 763.46 ms\n"
     ]
    },
    {
     "name": "stdout",
     "output_type": "stream",
     "text": [
      "b'0\\r\\n'\n"
     ]
    },
    {
     "name": "stderr",
     "output_type": "stream",
     "text": [
      "2020-02-12 19:42:38,117 - root - DEBUG - Detected 7 objects in 6 images in 745.10 ms\n"
     ]
    },
    {
     "name": "stdout",
     "output_type": "stream",
     "text": [
      "b'0\\r\\n'\n"
     ]
    },
    {
     "name": "stderr",
     "output_type": "stream",
     "text": [
      "2020-02-12 19:42:38,897 - root - DEBUG - Detected 7 objects in 6 images in 757.69 ms\n"
     ]
    },
    {
     "name": "stdout",
     "output_type": "stream",
     "text": [
      "b'0\\r\\n'\n"
     ]
    },
    {
     "name": "stderr",
     "output_type": "stream",
     "text": [
      "2020-02-12 19:42:39,682 - root - DEBUG - Detected 7 objects in 6 images in 763.28 ms\n"
     ]
    },
    {
     "name": "stdout",
     "output_type": "stream",
     "text": [
      "b'1\\r\\n'\n"
     ]
    },
    {
     "name": "stderr",
     "output_type": "stream",
     "text": [
      "2020-02-12 19:42:40,495 - root - DEBUG - Detected 7 objects in 6 images in 784.89 ms\n"
     ]
    },
    {
     "name": "stdout",
     "output_type": "stream",
     "text": [
      "b'1\\r\\n'\n"
     ]
    },
    {
     "name": "stderr",
     "output_type": "stream",
     "text": [
      "2020-02-12 19:42:41,302 - root - DEBUG - Detected 7 objects in 6 images in 770.29 ms\n"
     ]
    },
    {
     "name": "stdout",
     "output_type": "stream",
     "text": [
      "b'1\\r\\n'\n"
     ]
    },
    {
     "name": "stderr",
     "output_type": "stream",
     "text": [
      "2020-02-12 19:42:42,094 - root - DEBUG - Detected 8 objects in 6 images in 776.10 ms\n"
     ]
    },
    {
     "name": "stdout",
     "output_type": "stream",
     "text": [
      "b'1\\r\\n'\n"
     ]
    },
    {
     "name": "stderr",
     "output_type": "stream",
     "text": [
      "2020-02-12 19:42:42,883 - root - DEBUG - Detected 8 objects in 6 images in 761.20 ms\n"
     ]
    },
    {
     "name": "stdout",
     "output_type": "stream",
     "text": [
      "b'1\\r\\n'\n"
     ]
    },
    {
     "name": "stderr",
     "output_type": "stream",
     "text": [
      "2020-02-12 19:42:43,659 - root - DEBUG - Detected 8 objects in 6 images in 746.09 ms\n"
     ]
    },
    {
     "name": "stdout",
     "output_type": "stream",
     "text": [
      "b'1\\r\\n'\n"
     ]
    },
    {
     "name": "stderr",
     "output_type": "stream",
     "text": [
      "2020-02-12 19:42:44,467 - root - DEBUG - Detected 8 objects in 6 images in 758.08 ms\n"
     ]
    },
    {
     "name": "stdout",
     "output_type": "stream",
     "text": [
      "b'1\\r\\n'\n"
     ]
    },
    {
     "name": "stderr",
     "output_type": "stream",
     "text": [
      "2020-02-12 19:42:45,263 - root - DEBUG - Detected 8 objects in 6 images in 767.87 ms\n"
     ]
    },
    {
     "name": "stdout",
     "output_type": "stream",
     "text": [
      "b'Calculated output rot:\\r\\n'\n"
     ]
    },
    {
     "name": "stderr",
     "output_type": "stream",
     "text": [
      "2020-02-12 19:42:46,065 - root - DEBUG - Detected 8 objects in 6 images in 776.25 ms\n"
     ]
    },
    {
     "name": "stdout",
     "output_type": "stream",
     "text": [
      "b'0\\r\\n'\n"
     ]
    },
    {
     "name": "stderr",
     "output_type": "stream",
     "text": [
      "2020-02-12 19:42:46,859 - root - DEBUG - Detected 8 objects in 6 images in 766.82 ms\n"
     ]
    },
    {
     "name": "stdout",
     "output_type": "stream",
     "text": [
      "b'Calculated output rot:\\r\\n'\n"
     ]
    },
    {
     "name": "stderr",
     "output_type": "stream",
     "text": [
      "2020-02-12 19:42:47,638 - root - DEBUG - Detected 8 objects in 6 images in 758.72 ms\n"
     ]
    },
    {
     "name": "stdout",
     "output_type": "stream",
     "text": [
      "b'0\\r\\n'\n"
     ]
    },
    {
     "name": "stderr",
     "output_type": "stream",
     "text": [
      "2020-02-12 19:42:48,411 - root - DEBUG - Detected 8 objects in 6 images in 757.38 ms\n"
     ]
    },
    {
     "name": "stdout",
     "output_type": "stream",
     "text": [
      "b'Calculated output rot:\\r\\n'\n"
     ]
    },
    {
     "name": "stderr",
     "output_type": "stream",
     "text": [
      "2020-02-12 19:42:49,185 - root - DEBUG - Detected 8 objects in 6 images in 747.61 ms\n"
     ]
    },
    {
     "name": "stdout",
     "output_type": "stream",
     "text": [
      "b'2\\r\\n'\n"
     ]
    },
    {
     "name": "stderr",
     "output_type": "stream",
     "text": [
      "2020-02-12 19:42:49,968 - root - DEBUG - Detected 9 objects in 6 images in 753.13 ms\n"
     ]
    },
    {
     "name": "stdout",
     "output_type": "stream",
     "text": [
      "b'0\\r\\n'\n"
     ]
    },
    {
     "name": "stderr",
     "output_type": "stream",
     "text": [
      "2020-02-12 19:42:50,771 - root - DEBUG - Detected 8 objects in 6 images in 774.93 ms\n",
      "2020-02-12 19:42:51,553 - root - DEBUG - Detected 8 objects in 6 images in 749.51 ms\n"
     ]
    },
    {
     "name": "stdout",
     "output_type": "stream",
     "text": [
      "b'0\\r\\n'\n"
     ]
    },
    {
     "name": "stderr",
     "output_type": "stream",
     "text": [
      "2020-02-12 19:42:52,344 - root - DEBUG - Detected 8 objects in 6 images in 765.08 ms\n"
     ]
    },
    {
     "name": "stdout",
     "output_type": "stream",
     "text": [
      "b'0\\r\\n'\n"
     ]
    },
    {
     "name": "stderr",
     "output_type": "stream",
     "text": [
      "2020-02-12 19:42:53,125 - root - DEBUG - Detected 8 objects in 6 images in 756.92 ms\n"
     ]
    },
    {
     "name": "stdout",
     "output_type": "stream",
     "text": [
      "b'0\\r\\n'\n"
     ]
    },
    {
     "name": "stderr",
     "output_type": "stream",
     "text": [
      "2020-02-12 19:42:53,907 - root - DEBUG - Detected 8 objects in 6 images in 755.88 ms\n"
     ]
    },
    {
     "name": "stdout",
     "output_type": "stream",
     "text": [
      "b'0\\r\\n'\n"
     ]
    },
    {
     "name": "stderr",
     "output_type": "stream",
     "text": [
      "2020-02-12 19:42:54,686 - root - DEBUG - Detected 8 objects in 6 images in 753.44 ms\n"
     ]
    },
    {
     "name": "stdout",
     "output_type": "stream",
     "text": [
      "b'0\\r\\n'\n"
     ]
    },
    {
     "name": "stderr",
     "output_type": "stream",
     "text": [
      "2020-02-12 19:42:55,463 - root - DEBUG - Detected 7 objects in 6 images in 747.64 ms\n"
     ]
    },
    {
     "name": "stdout",
     "output_type": "stream",
     "text": [
      "b'0\\r\\n'\n"
     ]
    },
    {
     "name": "stderr",
     "output_type": "stream",
     "text": [
      "2020-02-12 19:42:56,246 - root - DEBUG - Detected 8 objects in 6 images in 756.52 ms\n"
     ]
    },
    {
     "name": "stdout",
     "output_type": "stream",
     "text": [
      "b'0\\r\\n'\n"
     ]
    },
    {
     "name": "stderr",
     "output_type": "stream",
     "text": [
      "2020-02-12 19:42:57,023 - root - DEBUG - Detected 7 objects in 6 images in 749.50 ms\n"
     ]
    },
    {
     "name": "stdout",
     "output_type": "stream",
     "text": [
      "b'0\\r\\n'\n"
     ]
    },
    {
     "name": "stderr",
     "output_type": "stream",
     "text": [
      "2020-02-12 19:42:57,800 - root - DEBUG - Detected 7 objects in 6 images in 762.17 ms\n"
     ]
    },
    {
     "name": "stdout",
     "output_type": "stream",
     "text": [
      "b'1\\r\\n'\n"
     ]
    },
    {
     "name": "stderr",
     "output_type": "stream",
     "text": [
      "2020-02-12 19:42:58,586 - root - DEBUG - Detected 7 objects in 6 images in 769.05 ms\n"
     ]
    },
    {
     "name": "stdout",
     "output_type": "stream",
     "text": [
      "b'1\\r\\n'\n"
     ]
    },
    {
     "name": "stderr",
     "output_type": "stream",
     "text": [
      "2020-02-12 19:42:59,360 - root - DEBUG - Detected 7 objects in 6 images in 744.67 ms\n"
     ]
    },
    {
     "name": "stdout",
     "output_type": "stream",
     "text": [
      "b'1\\r\\n'\n"
     ]
    },
    {
     "name": "stderr",
     "output_type": "stream",
     "text": [
      "2020-02-12 19:43:00,150 - root - DEBUG - Detected 8 objects in 6 images in 758.23 ms\n"
     ]
    },
    {
     "name": "stdout",
     "output_type": "stream",
     "text": [
      "b'1\\r\\n'\n"
     ]
    },
    {
     "name": "stderr",
     "output_type": "stream",
     "text": [
      "2020-02-12 19:43:01,005 - root - DEBUG - Detected 6 objects in 6 images in 824.83 ms\n"
     ]
    },
    {
     "name": "stdout",
     "output_type": "stream",
     "text": [
      "b'1\\r\\n'\n"
     ]
    },
    {
     "name": "stderr",
     "output_type": "stream",
     "text": [
      "2020-02-12 19:43:01,816 - root - DEBUG - Detected 7 objects in 6 images in 788.79 ms\n"
     ]
    },
    {
     "name": "stdout",
     "output_type": "stream",
     "text": [
      "b'1\\r\\n'\n"
     ]
    },
    {
     "name": "stderr",
     "output_type": "stream",
     "text": [
      "2020-02-12 19:43:02,660 - root - DEBUG - Detected 6 objects in 6 images in 814.90 ms\n"
     ]
    },
    {
     "name": "stdout",
     "output_type": "stream",
     "text": [
      "b'Calculated output rot:\\r\\n'\n"
     ]
    },
    {
     "name": "stderr",
     "output_type": "stream",
     "text": [
      "2020-02-12 19:43:03,458 - root - DEBUG - Detected 6 objects in 6 images in 768.34 ms\n"
     ]
    },
    {
     "name": "stdout",
     "output_type": "stream",
     "text": [
      "b'0\\r\\n'\n"
     ]
    },
    {
     "name": "stderr",
     "output_type": "stream",
     "text": [
      "2020-02-12 19:43:04,237 - root - DEBUG - Detected 6 objects in 6 images in 750.41 ms\n"
     ]
    },
    {
     "name": "stdout",
     "output_type": "stream",
     "text": [
      "b'Calculated output rot:\\r\\n'\n"
     ]
    },
    {
     "name": "stderr",
     "output_type": "stream",
     "text": [
      "2020-02-12 19:43:05,019 - root - DEBUG - Detected 7 objects in 6 images in 754.64 ms\n"
     ]
    },
    {
     "name": "stdout",
     "output_type": "stream",
     "text": [
      "b'2\\r\\n'\n"
     ]
    },
    {
     "name": "stderr",
     "output_type": "stream",
     "text": [
      "2020-02-12 19:43:05,789 - root - DEBUG - Detected 7 objects in 6 images in 747.61 ms\n"
     ]
    },
    {
     "name": "stdout",
     "output_type": "stream",
     "text": [
      "b'0\\r\\n'\n"
     ]
    },
    {
     "name": "stderr",
     "output_type": "stream",
     "text": [
      "2020-02-12 19:43:06,581 - root - DEBUG - Detected 7 objects in 6 images in 760.32 ms\n"
     ]
    },
    {
     "name": "stdout",
     "output_type": "stream",
     "text": [
      "b'0\\r\\n'\n"
     ]
    },
    {
     "name": "stderr",
     "output_type": "stream",
     "text": [
      "2020-02-12 19:43:07,363 - root - DEBUG - Detected 8 objects in 6 images in 752.24 ms\n"
     ]
    },
    {
     "name": "stdout",
     "output_type": "stream",
     "text": [
      "b'0\\r\\n'\n"
     ]
    },
    {
     "name": "stderr",
     "output_type": "stream",
     "text": [
      "2020-02-12 19:43:08,147 - root - DEBUG - Detected 7 objects in 6 images in 767.06 ms\n",
      "2020-02-12 19:43:08,946 - root - DEBUG - Detected 7 objects in 6 images in 748.82 ms\n"
     ]
    },
    {
     "name": "stdout",
     "output_type": "stream",
     "text": [
      "b'0\\r\\n'\n"
     ]
    },
    {
     "name": "stderr",
     "output_type": "stream",
     "text": [
      "2020-02-12 19:43:09,730 - root - DEBUG - Detected 6 objects in 6 images in 756.94 ms\n"
     ]
    },
    {
     "name": "stdout",
     "output_type": "stream",
     "text": [
      "b'0\\r\\n'\n"
     ]
    },
    {
     "name": "stderr",
     "output_type": "stream",
     "text": [
      "2020-02-12 19:43:10,555 - root - DEBUG - Detected 8 objects in 6 images in 798.86 ms\n",
      "2020-02-12 19:43:11,362 - root - DEBUG - Detected 7 objects in 6 images in 775.12 ms\n",
      "2020-02-12 19:43:12,150 - root - DEBUG - Detected 8 objects in 6 images in 760.95 ms\n"
     ]
    },
    {
     "name": "stdout",
     "output_type": "stream",
     "text": [
      "b'1\\r\\n'\n"
     ]
    },
    {
     "name": "stderr",
     "output_type": "stream",
     "text": [
      "2020-02-12 19:43:12,938 - root - DEBUG - Detected 7 objects in 6 images in 756.42 ms\n"
     ]
    },
    {
     "name": "stdout",
     "output_type": "stream",
     "text": [
      "b'1\\r\\n'\n"
     ]
    },
    {
     "name": "stderr",
     "output_type": "stream",
     "text": [
      "2020-02-12 19:43:13,715 - root - DEBUG - Detected 6 objects in 6 images in 749.63 ms\n",
      "2020-02-12 19:43:14,488 - root - DEBUG - Detected 6 objects in 6 images in 742.84 ms\n"
     ]
    },
    {
     "name": "stdout",
     "output_type": "stream",
     "text": [
      "b'1\\r\\n'\n"
     ]
    },
    {
     "name": "stderr",
     "output_type": "stream",
     "text": [
      "2020-02-12 19:43:15,276 - root - DEBUG - Detected 9 objects in 6 images in 761.01 ms\n"
     ]
    },
    {
     "name": "stdout",
     "output_type": "stream",
     "text": [
      "b'1\\r\\n'\n"
     ]
    },
    {
     "name": "stderr",
     "output_type": "stream",
     "text": [
      "2020-02-12 19:43:16,051 - root - DEBUG - Detected 8 objects in 6 images in 743.54 ms\n",
      "2020-02-12 19:43:16,834 - root - DEBUG - Detected 8 objects in 6 images in 755.18 ms\n",
      "2020-02-12 19:43:17,637 - root - DEBUG - Detected 8 objects in 6 images in 775.15 ms\n"
     ]
    },
    {
     "name": "stdout",
     "output_type": "stream",
     "text": [
      "b'Calculated output rot:\\r\\n'\n"
     ]
    },
    {
     "name": "stderr",
     "output_type": "stream",
     "text": [
      "2020-02-12 19:43:18,433 - root - DEBUG - Detected 7 objects in 6 images in 770.30 ms\n",
      "2020-02-12 19:43:19,241 - root - DEBUG - Detected 7 objects in 6 images in 773.91 ms\n",
      "2020-02-12 19:43:20,025 - root - DEBUG - Detected 8 objects in 6 images in 760.01 ms\n"
     ]
    },
    {
     "name": "stdout",
     "output_type": "stream",
     "text": [
      "b'0\\r\\n'\n"
     ]
    },
    {
     "name": "stderr",
     "output_type": "stream",
     "text": [
      "2020-02-12 19:43:20,840 - root - DEBUG - Detected 6 objects in 6 images in 788.89 ms\n"
     ]
    },
    {
     "name": "stdout",
     "output_type": "stream",
     "text": [
      "b'Calculated output rot:\\r\\n'\n"
     ]
    },
    {
     "name": "stderr",
     "output_type": "stream",
     "text": [
      "2020-02-12 19:43:21,613 - root - DEBUG - Detected 6 objects in 6 images in 746.61 ms\n"
     ]
    },
    {
     "name": "stdout",
     "output_type": "stream",
     "text": [
      "b'0\\r\\n'\n"
     ]
    },
    {
     "name": "stderr",
     "output_type": "stream",
     "text": [
      "2020-02-12 19:43:22,426 - root - DEBUG - Detected 7 objects in 6 images in 780.45 ms\n",
      "2020-02-12 19:43:23,199 - root - DEBUG - Detected 6 objects in 6 images in 758.20 ms\n"
     ]
    },
    {
     "name": "stdout",
     "output_type": "stream",
     "text": [
      "b'Calculated output rot:\\r\\n'\n"
     ]
    },
    {
     "name": "stderr",
     "output_type": "stream",
     "text": [
      "2020-02-12 19:43:23,973 - root - DEBUG - Detected 7 objects in 6 images in 747.58 ms\n",
      "2020-02-12 19:43:24,757 - root - DEBUG - Detected 7 objects in 6 images in 755.86 ms\n",
      "2020-02-12 19:43:25,534 - root - DEBUG - Detected 7 objects in 6 images in 748.60 ms\n"
     ]
    },
    {
     "name": "stdout",
     "output_type": "stream",
     "text": [
      "b'0\\r\\n'\n"
     ]
    },
    {
     "name": "stderr",
     "output_type": "stream",
     "text": [
      "2020-02-12 19:43:26,314 - root - DEBUG - Detected 6 objects in 6 images in 754.70 ms\n"
     ]
    },
    {
     "name": "stdout",
     "output_type": "stream",
     "text": [
      "b'Calculated output rot:\\r\\n'\n"
     ]
    },
    {
     "name": "stderr",
     "output_type": "stream",
     "text": [
      "2020-02-12 19:43:27,096 - root - DEBUG - Detected 6 objects in 6 images in 753.83 ms\n"
     ]
    },
    {
     "name": "stdout",
     "output_type": "stream",
     "text": [
      "b'0\\r\\n'\n"
     ]
    },
    {
     "name": "stderr",
     "output_type": "stream",
     "text": [
      "2020-02-12 19:43:27,873 - root - DEBUG - Detected 6 objects in 6 images in 760.26 ms\n"
     ]
    },
    {
     "name": "stdout",
     "output_type": "stream",
     "text": [
      "b'Calculated output rot:\\r\\n'\n"
     ]
    },
    {
     "name": "stderr",
     "output_type": "stream",
     "text": [
      "2020-02-12 19:43:28,663 - root - DEBUG - Detected 6 objects in 6 images in 767.77 ms\n"
     ]
    },
    {
     "name": "stdout",
     "output_type": "stream",
     "text": [
      "b'2\\r\\n'\n"
     ]
    },
    {
     "name": "stderr",
     "output_type": "stream",
     "text": [
      "2020-02-12 19:43:29,449 - root - DEBUG - Detected 7 objects in 6 images in 760.68 ms\n",
      "2020-02-12 19:43:30,218 - root - DEBUG - Detected 6 objects in 6 images in 742.25 ms\n"
     ]
    },
    {
     "name": "stdout",
     "output_type": "stream",
     "text": [
      "b'0\\r\\n'\n"
     ]
    },
    {
     "name": "stderr",
     "output_type": "stream",
     "text": [
      "2020-02-12 19:43:31,011 - root - DEBUG - Detected 6 objects in 6 images in 767.20 ms\n"
     ]
    },
    {
     "name": "stdout",
     "output_type": "stream",
     "text": [
      "b'0\\r\\n'\n"
     ]
    },
    {
     "name": "stderr",
     "output_type": "stream",
     "text": [
      "2020-02-12 19:43:31,803 - root - DEBUG - Detected 7 objects in 6 images in 764.14 ms\n"
     ]
    },
    {
     "name": "stdout",
     "output_type": "stream",
     "text": [
      "b'0\\r\\n'\n"
     ]
    },
    {
     "name": "stderr",
     "output_type": "stream",
     "text": [
      "2020-02-12 19:43:32,592 - root - DEBUG - Detected 7 objects in 6 images in 761.60 ms\n"
     ]
    },
    {
     "name": "stdout",
     "output_type": "stream",
     "text": [
      "b'0\\r\\n'\n"
     ]
    },
    {
     "name": "stderr",
     "output_type": "stream",
     "text": [
      "2020-02-12 19:43:33,413 - root - DEBUG - Detected 7 objects in 6 images in 798.55 ms\n"
     ]
    },
    {
     "name": "stdout",
     "output_type": "stream",
     "text": [
      "b'0\\r\\n'\n"
     ]
    },
    {
     "name": "stderr",
     "output_type": "stream",
     "text": [
      "2020-02-12 19:43:34,222 - root - DEBUG - Detected 7 objects in 6 images in 775.70 ms\n"
     ]
    },
    {
     "name": "stdout",
     "output_type": "stream",
     "text": [
      "b'0\\r\\n'\n"
     ]
    },
    {
     "name": "stderr",
     "output_type": "stream",
     "text": [
      "2020-02-12 19:43:35,037 - root - DEBUG - Detected 7 objects in 6 images in 786.89 ms\n"
     ]
    },
    {
     "name": "stdout",
     "output_type": "stream",
     "text": [
      "b'0\\r\\n'\n"
     ]
    },
    {
     "name": "stderr",
     "output_type": "stream",
     "text": [
      "2020-02-12 19:43:35,816 - root - DEBUG - Detected 6 objects in 6 images in 752.98 ms\n"
     ]
    },
    {
     "name": "stdout",
     "output_type": "stream",
     "text": [
      "b'0\\r\\n'\n"
     ]
    },
    {
     "name": "stderr",
     "output_type": "stream",
     "text": [
      "2020-02-12 19:43:36,590 - root - DEBUG - Detected 6 objects in 6 images in 747.67 ms\n"
     ]
    },
    {
     "name": "stdout",
     "output_type": "stream",
     "text": [
      "b'0\\r\\n'\n"
     ]
    },
    {
     "name": "stderr",
     "output_type": "stream",
     "text": [
      "2020-02-12 19:43:37,363 - root - DEBUG - Detected 6 objects in 6 images in 756.95 ms\n"
     ]
    },
    {
     "name": "stdout",
     "output_type": "stream",
     "text": [
      "b'0\\r\\n'\n"
     ]
    },
    {
     "name": "stderr",
     "output_type": "stream",
     "text": [
      "2020-02-12 19:43:38,137 - root - DEBUG - Detected 6 objects in 6 images in 750.72 ms\n"
     ]
    },
    {
     "name": "stdout",
     "output_type": "stream",
     "text": [
      "b'0\\r\\n'\n"
     ]
    },
    {
     "name": "stderr",
     "output_type": "stream",
     "text": [
      "2020-02-12 19:43:38,916 - root - DEBUG - Detected 6 objects in 6 images in 752.14 ms\n"
     ]
    },
    {
     "name": "stdout",
     "output_type": "stream",
     "text": [
      "b'0\\r\\n'\n"
     ]
    },
    {
     "name": "stderr",
     "output_type": "stream",
     "text": [
      "2020-02-12 19:43:39,697 - root - DEBUG - Detected 6 objects in 6 images in 749.07 ms\n"
     ]
    },
    {
     "name": "stdout",
     "output_type": "stream",
     "text": [
      "b'0\\r\\n'\n"
     ]
    },
    {
     "name": "stderr",
     "output_type": "stream",
     "text": [
      "2020-02-12 19:43:40,501 - root - DEBUG - Detected 6 objects in 6 images in 776.79 ms\n",
      "2020-02-12 19:43:41,275 - root - DEBUG - Detected 5 objects in 6 images in 746.13 ms\n",
      "2020-02-12 19:43:42,050 - root - DEBUG - Detected 5 objects in 6 images in 748.35 ms\n"
     ]
    },
    {
     "name": "stdout",
     "output_type": "stream",
     "text": [
      "b'1\\r\\n'\n"
     ]
    },
    {
     "name": "stderr",
     "output_type": "stream",
     "text": [
      "2020-02-12 19:43:42,872 - root - DEBUG - Detected 6 objects in 6 images in 795.87 ms\n"
     ]
    },
    {
     "name": "stdout",
     "output_type": "stream",
     "text": [
      "b'1\\r\\n'\n"
     ]
    },
    {
     "name": "stderr",
     "output_type": "stream",
     "text": [
      "2020-02-12 19:43:43,668 - root - DEBUG - Detected 5 objects in 6 images in 767.33 ms\n"
     ]
    },
    {
     "name": "stdout",
     "output_type": "stream",
     "text": [
      "b'Calculated output rot:\\r\\n'\n"
     ]
    },
    {
     "name": "stderr",
     "output_type": "stream",
     "text": [
      "2020-02-12 19:43:44,481 - root - DEBUG - Detected 7 objects in 6 images in 787.73 ms\n"
     ]
    },
    {
     "name": "stdout",
     "output_type": "stream",
     "text": [
      "b'66\\r\\n'\n"
     ]
    },
    {
     "name": "stderr",
     "output_type": "stream",
     "text": [
      "2020-02-12 19:43:45,256 - root - DEBUG - Detected 7 objects in 6 images in 745.53 ms\n"
     ]
    },
    {
     "name": "stdout",
     "output_type": "stream",
     "text": [
      "b'0\\r\\n'\n"
     ]
    },
    {
     "name": "stderr",
     "output_type": "stream",
     "text": [
      "2020-02-12 19:43:46,051 - root - DEBUG - Detected 7 objects in 6 images in 780.44 ms\n"
     ]
    },
    {
     "name": "stdout",
     "output_type": "stream",
     "text": [
      "b'0\\r\\n'\n"
     ]
    },
    {
     "name": "stderr",
     "output_type": "stream",
     "text": [
      "2020-02-12 19:43:46,834 - root - DEBUG - Detected 7 objects in 6 images in 755.98 ms\n"
     ]
    },
    {
     "name": "stdout",
     "output_type": "stream",
     "text": [
      "b'0\\r\\n'\n"
     ]
    },
    {
     "name": "stderr",
     "output_type": "stream",
     "text": [
      "2020-02-12 19:43:47,606 - root - DEBUG - Detected 6 objects in 6 images in 746.43 ms\n"
     ]
    }
   ],
   "source": [
    "from __future__ import division\n",
    "from matplotlib import pyplot as plt\n",
    "import logging\n",
    "import logging.config\n",
    "import time\n",
    "from moviepy.editor import VideoFileClip\n",
    "from IPython.display import HTML\n",
    "import cv2\n",
    "import numpy as np\n",
    "import tensorflow as tf\n",
    "import serial #Serial imported for Serial communication\n",
    "import time #Required to use delay functions\n",
    "from utils import cv_utils\n",
    "from utils import operations as ops\n",
    "from utils import tf_utils\n",
    "ArduinoSerial = serial.Serial('COM3',9600)\n",
    "time.sleep(2)\n",
    "logging.config.fileConfig('logging.ini')\n",
    "\n",
    "VIDEO_PATH = 'sample_video.mp4'\n",
    "FROZEN_GRAPH_PATH = 'models/ssd_mobilenet_v1/frozen_inference_graph.pb'\n",
    "\n",
    "OUTPUT_WINDOW_WIDTH = None  # Use None to use the original size of the image\n",
    "DETECT_EVERY_N_SECONDS = None  # Use None to perform detection for each frame\n",
    "\n",
    "# TUNE ME\n",
    "CROP_WIDTH = CROP_HEIGHT = 600\n",
    "CROP_STEP_HORIZONTAL = CROP_STEP_VERTICAL = 600 - 20  # no cone bigger than 20px\n",
    "SCORE_THRESHOLD = 0.5\n",
    "NON_MAX_SUPPRESSION_THRESHOLD = 0.5\n",
    "\n",
    "\n",
    "def main():\n",
    "    # Read TensorFlow graph\n",
    "    detection_graph = tf_utils.load_model(FROZEN_GRAPH_PATH)\n",
    "\n",
    "    # Read video from disk and count frames\n",
    "    #cap = cv2.VideoCapture(0)\n",
    "    cap = cv2.VideoCapture(VIDEO_PATH)\n",
    "\n",
    "    fps = cap.get(cv2.CAP_PROP_FPS)\n",
    "\n",
    "    # CROP_WIDTH = int(cap.get(cv2.CAP_PROP_FRAME_WIDTH))\n",
    "    # CROP_HEIGHT = int(cap.get(cv2.CAP_PROP_FRAME_HEIGHT))\n",
    "\n",
    "    with tf.compat.v1.Session(graph=detection_graph) as sess:\n",
    "        fourcc = cv2.VideoWriter_fourcc(*'XVID')\n",
    "        out = cv2.VideoWriter('Prototype2.avi', fourcc, 5, (int(cap.get(3)), int(cap.get(4))))\n",
    "        processed_images = 0\n",
    "        while cap.isOpened():\n",
    "            width = cap.get(3)\n",
    "            height = cap.get(4)\n",
    "            fps = cap.get(5)\n",
    "            if DETECT_EVERY_N_SECONDS:\n",
    "                cap.set(cv2.CAP_PROP_POS_FRAMES,\n",
    "                        processed_images * fps * DETECT_EVERY_N_SECONDS)\n",
    "            size = (width, height)\n",
    "            \n",
    "            ret, frame = cap.read()\n",
    "            #frame = cv2.cvtColor(frame, cv2.COLOR_BGR2GRAY)\n",
    "            if ret:\n",
    "                tic = time.time()\n",
    "                i=0\n",
    "                cv2.line(frame, (int(width/2),int(height/2)), (int(width/2),int(height/2)+40), (255,0,0), 10)\n",
    "                font = cv2.FONT_HERSHEY_SIMPLEX\n",
    "                \n",
    "                # crops are images as ndarrays of shape\n",
    "                # (number_crops, CROP_HEIGHT, CROP_WIDTH, 3)\n",
    "                # crop coordinates are the ymin, xmin, ymax, xmax coordinates in\n",
    "                #  the original image\n",
    "                crops, crops_coordinates = ops.extract_crops(\n",
    "                    frame, CROP_HEIGHT, CROP_WIDTH,\n",
    "                    CROP_STEP_VERTICAL, CROP_STEP_VERTICAL)\n",
    "\n",
    "                # Uncomment this if you also uncommented the two lines before\n",
    "                #  creating the TF session.\n",
    "                # crops = np.array([crops[0]])\n",
    "                # crops_coordinates = [crops_coordinates[0]]\n",
    "\n",
    "                detection_dict = tf_utils.run_inference_for_batch(crops, sess)\n",
    "\n",
    "                # The detection boxes obtained are relative to each crop. Get\n",
    "                # boxes relative to the original image\n",
    "                # IMPORTANT! The boxes coordinates are in the following order:\n",
    "                # (ymin, xmin, ymax, xmax)\n",
    "                boxes = []\n",
    "                for box_absolute, boxes_relative in zip(\n",
    "                        crops_coordinates, detection_dict['detection_boxes']):\n",
    "                    boxes.extend(ops.get_absolute_boxes(\n",
    "                        box_absolute,\n",
    "                        boxes_relative[np.any(boxes_relative, axis=1)]))\n",
    "                if boxes:\n",
    "                    boxes = np.vstack(boxes)\n",
    "\n",
    "                # Remove overlapping boxes\n",
    "                boxes = ops.non_max_suppression_fast(\n",
    "                    boxes, NON_MAX_SUPPRESSION_THRESHOLD)\n",
    "\n",
    "                # Get scores to display them on top of each detection\n",
    "                boxes_scores = detection_dict['detection_scores']\n",
    "                boxes_scores = boxes_scores[np.nonzero(boxes_scores)]\n",
    "\n",
    "                for box, score in zip(boxes, boxes_scores):\n",
    "                    if score > SCORE_THRESHOLD:\n",
    "                        i=i+1\n",
    "                        color = (0, 255, 0) \n",
    "                        thickness=10\n",
    "                        ymin, xmin, ymax, xmax = box\n",
    "                        if i==1:\n",
    "                            x1=(xmin+xmax)/2\n",
    "                            y1=(ymin+ymax)/2\n",
    "                        elif i==2:\n",
    "                            x2=(xmin+xmax)/2\n",
    "                            y2=(ymin+ymax)/2\n",
    "                            start_point=(int((x1+x2)/2),int(y1))\n",
    "                            end_point=(int((x1+x2)/2),int(y1)+40)\n",
    "                            if (x1>(width/2) and x2<(width/2)) or (x1<(width/2) and x2>(width/2)):\n",
    "                                cv2.line(frame, start_point, end_point, color, thickness)\n",
    "                                diff=(width/2)-((x1+x2)/2)+160\n",
    "                                cv2.putText(frame,str(diff),(int(width/2),int(height)-600), font, 3,(255,255,255),2,cv2.LINE_AA)\n",
    "                                diff_2=str(diff)\n",
    "                                \n",
    "                                ArduinoSerial.write(diff_2.encode())\n",
    "                                print (ArduinoSerial.readline())\n",
    "                        color_detected_rgb = cv_utils.predominant_rgb_color(\n",
    "                            frame, ymin, xmin, ymax, xmax)\n",
    "                        text = '{:.2f}'.format(score)\n",
    "                        cv_utils.add_rectangle_with_text(\n",
    "                            frame, ymin, xmin, ymax, xmax,\n",
    "                            color_detected_rgb, str(i))\n",
    "\n",
    "                if OUTPUT_WINDOW_WIDTH:\n",
    "                    frame = cv_utils.resize_width_keeping_aspect_ratio(\n",
    "                        frame, OUTPUT_WINDOW_WIDTH)\n",
    "\n",
    "                \n",
    "                cv2.waitKey(1)\n",
    "                processed_images += 1\n",
    "\n",
    "                toc = time.time()\n",
    "                processing_time_ms = (toc - tic) * 1000\n",
    "                logging.debug(\n",
    "                    'Detected {} objects in {} images in {:.2f} ms'.format(\n",
    "                        len(boxes), len(crops), processing_time_ms))\n",
    "                cv2.imshow('Live Video', frame)\n",
    "                out.write(frame)\n",
    "                #out = cv2.VideoWriter('test_file.avi',cv2.VideoWriter_fourcc('M','J','P','G'), 10, (width,height))\n",
    "                #if cv2.waitKey(1) & 0xFF == ord('q'):\n",
    "                    #break\n",
    "            else:\n",
    "                # No more frames. Break the loop\n",
    "                break\n",
    "\n",
    "    cap.release()\n",
    "    cv2.destroyAllWindows()\n",
    "\n",
    "\n",
    "if __name__ == '__main__':\n",
    "    main()"
   ]
  }
 ],
 "metadata": {
  "kernelspec": {
   "display_name": "Python 3",
   "language": "python",
   "name": "python3"
  },
  "language_info": {
   "codemirror_mode": {
    "name": "ipython",
    "version": 3
   },
   "file_extension": ".py",
   "mimetype": "text/x-python",
   "name": "python",
   "nbconvert_exporter": "python",
   "pygments_lexer": "ipython3",
   "version": "3.7.4"
  }
 },
 "nbformat": 4,
 "nbformat_minor": 2
}
